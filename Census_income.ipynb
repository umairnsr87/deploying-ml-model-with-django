{
  "nbformat": 4,
  "nbformat_minor": 0,
  "metadata": {
    "anaconda-cloud": {},
    "kernelspec": {
      "display_name": "Python 3",
      "language": "python",
      "name": "python3"
    },
    "language_info": {
      "codemirror_mode": {
        "name": "ipython",
        "version": 3
      },
      "file_extension": ".py",
      "mimetype": "text/x-python",
      "name": "python",
      "nbconvert_exporter": "python",
      "pygments_lexer": "ipython3",
      "version": "3.6.3"
    },
    "colab": {
      "name": "Census income.ipynb",
      "provenance": [],
      "toc_visible": true
    }
  },
  "cells": [
    {
      "cell_type": "code",
      "metadata": {
        "id": "gkf-m7wiRsAx",
        "colab_type": "code",
        "colab": {}
      },
      "source": [
        "import pandas as pd\n",
        "import numpy as np\n",
        "from sklearn import tree\n",
        "import numpy as np\n",
        "from sklearn.metrics import roc_auc_score\n",
        "\n",
        "%matplotlib inline"
      ],
      "execution_count": 0,
      "outputs": []
    },
    {
      "cell_type": "markdown",
      "metadata": {
        "id": "3DBleJq-RsBK",
        "colab_type": "text"
      },
      "source": [
        "I'll be demonstrating just the classification problems , you can build regression following a very similar process"
      ]
    },
    {
      "cell_type": "code",
      "metadata": {
        "id": "XiZsV457RsBQ",
        "colab_type": "code",
        "colab": {}
      },
      "source": [
        "# data prep from previous module\n",
        "ci_train=pd.read_csv('census_income.csv')\n",
        "\n",
        "# if you have a test data, you can combine as shown in the earlier modules"
      ],
      "execution_count": 0,
      "outputs": []
    },
    {
      "cell_type": "code",
      "metadata": {
        "id": "qUkoks2HRsBd",
        "colab_type": "code",
        "colab": {
          "base_uri": "https://localhost:8080/",
          "height": 296
        },
        "outputId": "a35fd31d-4ff6-408f-c431-f6cd9796f939"
      },
      "source": [
        "ci_train.head()"
      ],
      "execution_count": 3,
      "outputs": [
        {
          "output_type": "execute_result",
          "data": {
            "text/html": [
              "<div>\n",
              "<style scoped>\n",
              "    .dataframe tbody tr th:only-of-type {\n",
              "        vertical-align: middle;\n",
              "    }\n",
              "\n",
              "    .dataframe tbody tr th {\n",
              "        vertical-align: top;\n",
              "    }\n",
              "\n",
              "    .dataframe thead th {\n",
              "        text-align: right;\n",
              "    }\n",
              "</style>\n",
              "<table border=\"1\" class=\"dataframe\">\n",
              "  <thead>\n",
              "    <tr style=\"text-align: right;\">\n",
              "      <th></th>\n",
              "      <th>age</th>\n",
              "      <th>workclass</th>\n",
              "      <th>fnlwgt</th>\n",
              "      <th>education</th>\n",
              "      <th>education.num</th>\n",
              "      <th>marital.status</th>\n",
              "      <th>occupation</th>\n",
              "      <th>relationship</th>\n",
              "      <th>race</th>\n",
              "      <th>sex</th>\n",
              "      <th>capital.gain</th>\n",
              "      <th>capital.loss</th>\n",
              "      <th>hours.per.week</th>\n",
              "      <th>native.country</th>\n",
              "      <th>Y</th>\n",
              "    </tr>\n",
              "  </thead>\n",
              "  <tbody>\n",
              "    <tr>\n",
              "      <th>0</th>\n",
              "      <td>39</td>\n",
              "      <td>State-gov</td>\n",
              "      <td>77516</td>\n",
              "      <td>Bachelors</td>\n",
              "      <td>13</td>\n",
              "      <td>Never-married</td>\n",
              "      <td>Adm-clerical</td>\n",
              "      <td>Not-in-family</td>\n",
              "      <td>White</td>\n",
              "      <td>Male</td>\n",
              "      <td>2174.0</td>\n",
              "      <td>0.0</td>\n",
              "      <td>40.0</td>\n",
              "      <td>United-States</td>\n",
              "      <td>&lt;=50K</td>\n",
              "    </tr>\n",
              "    <tr>\n",
              "      <th>1</th>\n",
              "      <td>50</td>\n",
              "      <td>Self-emp-not-inc</td>\n",
              "      <td>83311</td>\n",
              "      <td>Bachelors</td>\n",
              "      <td>13</td>\n",
              "      <td>Married-civ-spouse</td>\n",
              "      <td>Exec-managerial</td>\n",
              "      <td>Husband</td>\n",
              "      <td>White</td>\n",
              "      <td>Male</td>\n",
              "      <td>0.0</td>\n",
              "      <td>0.0</td>\n",
              "      <td>13.0</td>\n",
              "      <td>United-States</td>\n",
              "      <td>&lt;=50K</td>\n",
              "    </tr>\n",
              "    <tr>\n",
              "      <th>2</th>\n",
              "      <td>38</td>\n",
              "      <td>Private</td>\n",
              "      <td>215646</td>\n",
              "      <td>HS-grad</td>\n",
              "      <td>9</td>\n",
              "      <td>Divorced</td>\n",
              "      <td>Handlers-cleaners</td>\n",
              "      <td>Not-in-family</td>\n",
              "      <td>White</td>\n",
              "      <td>Male</td>\n",
              "      <td>0.0</td>\n",
              "      <td>0.0</td>\n",
              "      <td>40.0</td>\n",
              "      <td>United-States</td>\n",
              "      <td>&lt;=50K</td>\n",
              "    </tr>\n",
              "    <tr>\n",
              "      <th>3</th>\n",
              "      <td>53</td>\n",
              "      <td>Private</td>\n",
              "      <td>234721</td>\n",
              "      <td>11th</td>\n",
              "      <td>7</td>\n",
              "      <td>Married-civ-spouse</td>\n",
              "      <td>Handlers-cleaners</td>\n",
              "      <td>Husband</td>\n",
              "      <td>Black</td>\n",
              "      <td>Male</td>\n",
              "      <td>0.0</td>\n",
              "      <td>0.0</td>\n",
              "      <td>40.0</td>\n",
              "      <td>United-States</td>\n",
              "      <td>&lt;=50K</td>\n",
              "    </tr>\n",
              "    <tr>\n",
              "      <th>4</th>\n",
              "      <td>28</td>\n",
              "      <td>Private</td>\n",
              "      <td>338409</td>\n",
              "      <td>Bachelors</td>\n",
              "      <td>13</td>\n",
              "      <td>Married-civ-spouse</td>\n",
              "      <td>Prof-specialty</td>\n",
              "      <td>Wife</td>\n",
              "      <td>Black</td>\n",
              "      <td>Female</td>\n",
              "      <td>0.0</td>\n",
              "      <td>0.0</td>\n",
              "      <td>40.0</td>\n",
              "      <td>Cuba</td>\n",
              "      <td>&lt;=50K</td>\n",
              "    </tr>\n",
              "  </tbody>\n",
              "</table>\n",
              "</div>"
            ],
            "text/plain": [
              "   age          workclass  fnlwgt  ... hours.per.week  native.country       Y\n",
              "0   39          State-gov   77516  ...           40.0   United-States   <=50K\n",
              "1   50   Self-emp-not-inc   83311  ...           13.0   United-States   <=50K\n",
              "2   38            Private  215646  ...           40.0   United-States   <=50K\n",
              "3   53            Private  234721  ...           40.0   United-States   <=50K\n",
              "4   28            Private  338409  ...           40.0            Cuba   <=50K\n",
              "\n",
              "[5 rows x 15 columns]"
            ]
          },
          "metadata": {
            "tags": []
          },
          "execution_count": 3
        }
      ]
    },
    {
      "cell_type": "code",
      "metadata": {
        "id": "d3Uka-14RsB0",
        "colab_type": "code",
        "colab": {
          "base_uri": "https://localhost:8080/",
          "height": 583
        },
        "outputId": "18c7b7f1-c64f-4567-91b2-a4d70ae971e2"
      },
      "source": [
        "pd.crosstab(ci_train['education'],ci_train['education.num'])"
      ],
      "execution_count": 4,
      "outputs": [
        {
          "output_type": "execute_result",
          "data": {
            "text/html": [
              "<div>\n",
              "<style scoped>\n",
              "    .dataframe tbody tr th:only-of-type {\n",
              "        vertical-align: middle;\n",
              "    }\n",
              "\n",
              "    .dataframe tbody tr th {\n",
              "        vertical-align: top;\n",
              "    }\n",
              "\n",
              "    .dataframe thead th {\n",
              "        text-align: right;\n",
              "    }\n",
              "</style>\n",
              "<table border=\"1\" class=\"dataframe\">\n",
              "  <thead>\n",
              "    <tr style=\"text-align: right;\">\n",
              "      <th>education.num</th>\n",
              "      <th>1</th>\n",
              "      <th>2</th>\n",
              "      <th>3</th>\n",
              "      <th>4</th>\n",
              "      <th>5</th>\n",
              "      <th>6</th>\n",
              "      <th>7</th>\n",
              "      <th>8</th>\n",
              "      <th>9</th>\n",
              "      <th>10</th>\n",
              "      <th>11</th>\n",
              "      <th>12</th>\n",
              "      <th>13</th>\n",
              "      <th>14</th>\n",
              "      <th>15</th>\n",
              "      <th>16</th>\n",
              "    </tr>\n",
              "    <tr>\n",
              "      <th>education</th>\n",
              "      <th></th>\n",
              "      <th></th>\n",
              "      <th></th>\n",
              "      <th></th>\n",
              "      <th></th>\n",
              "      <th></th>\n",
              "      <th></th>\n",
              "      <th></th>\n",
              "      <th></th>\n",
              "      <th></th>\n",
              "      <th></th>\n",
              "      <th></th>\n",
              "      <th></th>\n",
              "      <th></th>\n",
              "      <th></th>\n",
              "      <th></th>\n",
              "    </tr>\n",
              "  </thead>\n",
              "  <tbody>\n",
              "    <tr>\n",
              "      <th>10th</th>\n",
              "      <td>0</td>\n",
              "      <td>0</td>\n",
              "      <td>0</td>\n",
              "      <td>0</td>\n",
              "      <td>0</td>\n",
              "      <td>442</td>\n",
              "      <td>0</td>\n",
              "      <td>0</td>\n",
              "      <td>0</td>\n",
              "      <td>0</td>\n",
              "      <td>0</td>\n",
              "      <td>0</td>\n",
              "      <td>0</td>\n",
              "      <td>0</td>\n",
              "      <td>0</td>\n",
              "      <td>0</td>\n",
              "    </tr>\n",
              "    <tr>\n",
              "      <th>11th</th>\n",
              "      <td>0</td>\n",
              "      <td>0</td>\n",
              "      <td>0</td>\n",
              "      <td>0</td>\n",
              "      <td>0</td>\n",
              "      <td>0</td>\n",
              "      <td>564</td>\n",
              "      <td>0</td>\n",
              "      <td>0</td>\n",
              "      <td>0</td>\n",
              "      <td>0</td>\n",
              "      <td>0</td>\n",
              "      <td>0</td>\n",
              "      <td>0</td>\n",
              "      <td>0</td>\n",
              "      <td>0</td>\n",
              "    </tr>\n",
              "    <tr>\n",
              "      <th>12th</th>\n",
              "      <td>0</td>\n",
              "      <td>0</td>\n",
              "      <td>0</td>\n",
              "      <td>0</td>\n",
              "      <td>0</td>\n",
              "      <td>0</td>\n",
              "      <td>0</td>\n",
              "      <td>174</td>\n",
              "      <td>0</td>\n",
              "      <td>0</td>\n",
              "      <td>0</td>\n",
              "      <td>0</td>\n",
              "      <td>0</td>\n",
              "      <td>0</td>\n",
              "      <td>0</td>\n",
              "      <td>0</td>\n",
              "    </tr>\n",
              "    <tr>\n",
              "      <th>1st-4th</th>\n",
              "      <td>0</td>\n",
              "      <td>78</td>\n",
              "      <td>0</td>\n",
              "      <td>0</td>\n",
              "      <td>0</td>\n",
              "      <td>0</td>\n",
              "      <td>0</td>\n",
              "      <td>0</td>\n",
              "      <td>0</td>\n",
              "      <td>0</td>\n",
              "      <td>0</td>\n",
              "      <td>0</td>\n",
              "      <td>0</td>\n",
              "      <td>0</td>\n",
              "      <td>0</td>\n",
              "      <td>0</td>\n",
              "    </tr>\n",
              "    <tr>\n",
              "      <th>5th-6th</th>\n",
              "      <td>0</td>\n",
              "      <td>0</td>\n",
              "      <td>160</td>\n",
              "      <td>0</td>\n",
              "      <td>0</td>\n",
              "      <td>0</td>\n",
              "      <td>0</td>\n",
              "      <td>0</td>\n",
              "      <td>0</td>\n",
              "      <td>0</td>\n",
              "      <td>0</td>\n",
              "      <td>0</td>\n",
              "      <td>0</td>\n",
              "      <td>0</td>\n",
              "      <td>0</td>\n",
              "      <td>0</td>\n",
              "    </tr>\n",
              "    <tr>\n",
              "      <th>7th-8th</th>\n",
              "      <td>0</td>\n",
              "      <td>0</td>\n",
              "      <td>0</td>\n",
              "      <td>298</td>\n",
              "      <td>0</td>\n",
              "      <td>0</td>\n",
              "      <td>0</td>\n",
              "      <td>0</td>\n",
              "      <td>0</td>\n",
              "      <td>0</td>\n",
              "      <td>0</td>\n",
              "      <td>0</td>\n",
              "      <td>0</td>\n",
              "      <td>0</td>\n",
              "      <td>0</td>\n",
              "      <td>0</td>\n",
              "    </tr>\n",
              "    <tr>\n",
              "      <th>9th</th>\n",
              "      <td>0</td>\n",
              "      <td>0</td>\n",
              "      <td>0</td>\n",
              "      <td>0</td>\n",
              "      <td>233</td>\n",
              "      <td>0</td>\n",
              "      <td>0</td>\n",
              "      <td>0</td>\n",
              "      <td>0</td>\n",
              "      <td>0</td>\n",
              "      <td>0</td>\n",
              "      <td>0</td>\n",
              "      <td>0</td>\n",
              "      <td>0</td>\n",
              "      <td>0</td>\n",
              "      <td>0</td>\n",
              "    </tr>\n",
              "    <tr>\n",
              "      <th>Assoc-acdm</th>\n",
              "      <td>0</td>\n",
              "      <td>0</td>\n",
              "      <td>0</td>\n",
              "      <td>0</td>\n",
              "      <td>0</td>\n",
              "      <td>0</td>\n",
              "      <td>0</td>\n",
              "      <td>0</td>\n",
              "      <td>0</td>\n",
              "      <td>0</td>\n",
              "      <td>0</td>\n",
              "      <td>488</td>\n",
              "      <td>0</td>\n",
              "      <td>0</td>\n",
              "      <td>0</td>\n",
              "      <td>0</td>\n",
              "    </tr>\n",
              "    <tr>\n",
              "      <th>Assoc-voc</th>\n",
              "      <td>0</td>\n",
              "      <td>0</td>\n",
              "      <td>0</td>\n",
              "      <td>0</td>\n",
              "      <td>0</td>\n",
              "      <td>0</td>\n",
              "      <td>0</td>\n",
              "      <td>0</td>\n",
              "      <td>0</td>\n",
              "      <td>0</td>\n",
              "      <td>650</td>\n",
              "      <td>0</td>\n",
              "      <td>0</td>\n",
              "      <td>0</td>\n",
              "      <td>0</td>\n",
              "      <td>0</td>\n",
              "    </tr>\n",
              "    <tr>\n",
              "      <th>Bachelors</th>\n",
              "      <td>0</td>\n",
              "      <td>0</td>\n",
              "      <td>0</td>\n",
              "      <td>0</td>\n",
              "      <td>0</td>\n",
              "      <td>0</td>\n",
              "      <td>0</td>\n",
              "      <td>0</td>\n",
              "      <td>0</td>\n",
              "      <td>0</td>\n",
              "      <td>0</td>\n",
              "      <td>0</td>\n",
              "      <td>2578</td>\n",
              "      <td>0</td>\n",
              "      <td>0</td>\n",
              "      <td>0</td>\n",
              "    </tr>\n",
              "    <tr>\n",
              "      <th>Doctorate</th>\n",
              "      <td>0</td>\n",
              "      <td>0</td>\n",
              "      <td>0</td>\n",
              "      <td>0</td>\n",
              "      <td>0</td>\n",
              "      <td>0</td>\n",
              "      <td>0</td>\n",
              "      <td>0</td>\n",
              "      <td>0</td>\n",
              "      <td>0</td>\n",
              "      <td>0</td>\n",
              "      <td>0</td>\n",
              "      <td>0</td>\n",
              "      <td>0</td>\n",
              "      <td>0</td>\n",
              "      <td>193</td>\n",
              "    </tr>\n",
              "    <tr>\n",
              "      <th>HS-grad</th>\n",
              "      <td>0</td>\n",
              "      <td>0</td>\n",
              "      <td>0</td>\n",
              "      <td>0</td>\n",
              "      <td>0</td>\n",
              "      <td>0</td>\n",
              "      <td>0</td>\n",
              "      <td>0</td>\n",
              "      <td>5059</td>\n",
              "      <td>0</td>\n",
              "      <td>0</td>\n",
              "      <td>0</td>\n",
              "      <td>0</td>\n",
              "      <td>0</td>\n",
              "      <td>0</td>\n",
              "      <td>0</td>\n",
              "    </tr>\n",
              "    <tr>\n",
              "      <th>Masters</th>\n",
              "      <td>0</td>\n",
              "      <td>0</td>\n",
              "      <td>0</td>\n",
              "      <td>0</td>\n",
              "      <td>0</td>\n",
              "      <td>0</td>\n",
              "      <td>0</td>\n",
              "      <td>0</td>\n",
              "      <td>0</td>\n",
              "      <td>0</td>\n",
              "      <td>0</td>\n",
              "      <td>0</td>\n",
              "      <td>0</td>\n",
              "      <td>826</td>\n",
              "      <td>0</td>\n",
              "      <td>0</td>\n",
              "    </tr>\n",
              "    <tr>\n",
              "      <th>Preschool</th>\n",
              "      <td>22</td>\n",
              "      <td>0</td>\n",
              "      <td>0</td>\n",
              "      <td>0</td>\n",
              "      <td>0</td>\n",
              "      <td>0</td>\n",
              "      <td>0</td>\n",
              "      <td>0</td>\n",
              "      <td>0</td>\n",
              "      <td>0</td>\n",
              "      <td>0</td>\n",
              "      <td>0</td>\n",
              "      <td>0</td>\n",
              "      <td>0</td>\n",
              "      <td>0</td>\n",
              "      <td>0</td>\n",
              "    </tr>\n",
              "    <tr>\n",
              "      <th>Prof-school</th>\n",
              "      <td>0</td>\n",
              "      <td>0</td>\n",
              "      <td>0</td>\n",
              "      <td>0</td>\n",
              "      <td>0</td>\n",
              "      <td>0</td>\n",
              "      <td>0</td>\n",
              "      <td>0</td>\n",
              "      <td>0</td>\n",
              "      <td>0</td>\n",
              "      <td>0</td>\n",
              "      <td>0</td>\n",
              "      <td>0</td>\n",
              "      <td>0</td>\n",
              "      <td>259</td>\n",
              "      <td>0</td>\n",
              "    </tr>\n",
              "    <tr>\n",
              "      <th>Some-college</th>\n",
              "      <td>0</td>\n",
              "      <td>0</td>\n",
              "      <td>0</td>\n",
              "      <td>0</td>\n",
              "      <td>0</td>\n",
              "      <td>0</td>\n",
              "      <td>0</td>\n",
              "      <td>0</td>\n",
              "      <td>0</td>\n",
              "      <td>3509</td>\n",
              "      <td>0</td>\n",
              "      <td>0</td>\n",
              "      <td>0</td>\n",
              "      <td>0</td>\n",
              "      <td>0</td>\n",
              "      <td>0</td>\n",
              "    </tr>\n",
              "  </tbody>\n",
              "</table>\n",
              "</div>"
            ],
            "text/plain": [
              "education.num  1   2    3    4    5    6   ...   11   12    13   14   15   16\n",
              "education                                  ...                               \n",
              " 10th           0   0    0    0    0  442  ...    0    0     0    0    0    0\n",
              " 11th           0   0    0    0    0    0  ...    0    0     0    0    0    0\n",
              " 12th           0   0    0    0    0    0  ...    0    0     0    0    0    0\n",
              " 1st-4th        0  78    0    0    0    0  ...    0    0     0    0    0    0\n",
              " 5th-6th        0   0  160    0    0    0  ...    0    0     0    0    0    0\n",
              " 7th-8th        0   0    0  298    0    0  ...    0    0     0    0    0    0\n",
              " 9th            0   0    0    0  233    0  ...    0    0     0    0    0    0\n",
              " Assoc-acdm     0   0    0    0    0    0  ...    0  488     0    0    0    0\n",
              " Assoc-voc      0   0    0    0    0    0  ...  650    0     0    0    0    0\n",
              " Bachelors      0   0    0    0    0    0  ...    0    0  2578    0    0    0\n",
              " Doctorate      0   0    0    0    0    0  ...    0    0     0    0    0  193\n",
              " HS-grad        0   0    0    0    0    0  ...    0    0     0    0    0    0\n",
              " Masters        0   0    0    0    0    0  ...    0    0     0  826    0    0\n",
              " Preschool     22   0    0    0    0    0  ...    0    0     0    0    0    0\n",
              " Prof-school    0   0    0    0    0    0  ...    0    0     0    0  259    0\n",
              " Some-college   0   0    0    0    0    0  ...    0    0     0    0    0    0\n",
              "\n",
              "[16 rows x 16 columns]"
            ]
          },
          "metadata": {
            "tags": []
          },
          "execution_count": 4
        }
      ]
    },
    {
      "cell_type": "code",
      "metadata": {
        "id": "w1yaJX3vRsCB",
        "colab_type": "code",
        "colab": {}
      },
      "source": [
        "ci_train.drop(['education'],axis=1,inplace=True)"
      ],
      "execution_count": 0,
      "outputs": []
    },
    {
      "cell_type": "code",
      "metadata": {
        "id": "nl8rfQmaRsCO",
        "colab_type": "code",
        "colab": {
          "base_uri": "https://localhost:8080/",
          "height": 35
        },
        "outputId": "11d1f231-86b7-4a65-ec39-4def89ec78ab"
      },
      "source": [
        "ci_train['Y'].value_counts().index"
      ],
      "execution_count": 6,
      "outputs": [
        {
          "output_type": "execute_result",
          "data": {
            "text/plain": [
              "Index([' <=50K', ' >50K'], dtype='object')"
            ]
          },
          "metadata": {
            "tags": []
          },
          "execution_count": 6
        }
      ]
    },
    {
      "cell_type": "code",
      "metadata": {
        "id": "4edL33dARsCj",
        "colab_type": "code",
        "colab": {}
      },
      "source": [
        "ci_train['Y']=(ci_train['Y']==' >50K').astype(int)"
      ],
      "execution_count": 0,
      "outputs": []
    },
    {
      "cell_type": "code",
      "metadata": {
        "id": "Q09QZwp1RsC2",
        "colab_type": "code",
        "colab": {}
      },
      "source": [
        "cat_cols=ci_train.select_dtypes(['object']).columns"
      ],
      "execution_count": 0,
      "outputs": []
    },
    {
      "cell_type": "code",
      "metadata": {
        "id": "6DimPVkXRsC_",
        "colab_type": "code",
        "colab": {
          "base_uri": "https://localhost:8080/",
          "height": 72
        },
        "outputId": "dece3598-e010-41bc-df26-ad5cef623f06"
      },
      "source": [
        "cat_cols"
      ],
      "execution_count": 9,
      "outputs": [
        {
          "output_type": "execute_result",
          "data": {
            "text/plain": [
              "Index(['workclass', 'marital.status', 'occupation', 'relationship', 'race',\n",
              "       'sex', 'native.country'],\n",
              "      dtype='object')"
            ]
          },
          "metadata": {
            "tags": []
          },
          "execution_count": 9
        }
      ]
    },
    {
      "cell_type": "code",
      "metadata": {
        "id": "SqvggzL7RsDQ",
        "colab_type": "code",
        "colab": {
          "base_uri": "https://localhost:8080/",
          "height": 35
        },
        "outputId": "a8a0beac-25a4-4d68-b801-ed0339524fce"
      },
      "source": [
        "ci_train.shape"
      ],
      "execution_count": 10,
      "outputs": [
        {
          "output_type": "execute_result",
          "data": {
            "text/plain": [
              "(15533, 14)"
            ]
          },
          "metadata": {
            "tags": []
          },
          "execution_count": 10
        }
      ]
    },
    {
      "cell_type": "code",
      "metadata": {
        "id": "daglCq_7RsDb",
        "colab_type": "code",
        "colab": {
          "base_uri": "https://localhost:8080/",
          "height": 146
        },
        "outputId": "275616a5-1cba-4421-f211-df989bff6d44"
      },
      "source": [
        "for col in cat_cols:\n",
        "    freqs=ci_train[col].value_counts()\n",
        "    k=freqs.index[freqs>500][:-1]\n",
        "    for cat in k:\n",
        "        name=col+'_'+cat\n",
        "        ci_train[name]=(ci_train[col]==cat).astype(int)\n",
        "    del ci_train[col]\n",
        "    print(col)"
      ],
      "execution_count": 11,
      "outputs": [
        {
          "output_type": "stream",
          "text": [
            "workclass\n",
            "marital.status\n",
            "occupation\n",
            "relationship\n",
            "race\n",
            "sex\n",
            "native.country\n"
          ],
          "name": "stdout"
        }
      ]
    },
    {
      "cell_type": "code",
      "metadata": {
        "id": "gSKv0Ev9RsDm",
        "colab_type": "code",
        "colab": {
          "base_uri": "https://localhost:8080/",
          "height": 35
        },
        "outputId": "466a47aa-0826-4976-87bc-2577f787bc1c"
      },
      "source": [
        "ci_train.shape"
      ],
      "execution_count": 12,
      "outputs": [
        {
          "output_type": "execute_result",
          "data": {
            "text/plain": [
              "(15533, 29)"
            ]
          },
          "metadata": {
            "tags": []
          },
          "execution_count": 12
        }
      ]
    },
    {
      "cell_type": "code",
      "metadata": {
        "id": "rvSEow2WRsDv",
        "colab_type": "code",
        "colab": {
          "base_uri": "https://localhost:8080/",
          "height": 568
        },
        "outputId": "c8f539f8-3961-4a6d-822f-f9ebd568bef3"
      },
      "source": [
        "ci_train.isnull().sum()"
      ],
      "execution_count": 13,
      "outputs": [
        {
          "output_type": "execute_result",
          "data": {
            "text/plain": [
              "age                                   0\n",
              "fnlwgt                                0\n",
              "education.num                         0\n",
              "capital.gain                          1\n",
              "capital.loss                          1\n",
              "hours.per.week                        1\n",
              "Y                                     0\n",
              "workclass_ Private                    0\n",
              "workclass_ Self-emp-not-inc           0\n",
              "workclass_ Local-gov                  0\n",
              "workclass_ ?                          0\n",
              "workclass_ State-gov                  0\n",
              "marital.status_ Married-civ-spouse    0\n",
              "marital.status_ Never-married         0\n",
              "occupation_ Prof-specialty            0\n",
              "occupation_ Craft-repair              0\n",
              "occupation_ Exec-managerial           0\n",
              "occupation_ Adm-clerical              0\n",
              "occupation_ Sales                     0\n",
              "occupation_ Other-service             0\n",
              "occupation_ Machine-op-inspct         0\n",
              "occupation_ ?                         0\n",
              "occupation_ Transport-moving          0\n",
              "relationship_ Husband                 0\n",
              "relationship_ Not-in-family           0\n",
              "relationship_ Own-child               0\n",
              "relationship_ Unmarried               0\n",
              "race_ White                           0\n",
              "sex_ Male                             0\n",
              "dtype: int64"
            ]
          },
          "metadata": {
            "tags": []
          },
          "execution_count": 13
        }
      ]
    },
    {
      "cell_type": "code",
      "metadata": {
        "id": "p6oUOY1KRsD2",
        "colab_type": "code",
        "colab": {}
      },
      "source": [
        "x_train=ci_train.drop(['Y'],1)\n",
        "y_train=ci_train['Y']"
      ],
      "execution_count": 0,
      "outputs": []
    },
    {
      "cell_type": "markdown",
      "metadata": {
        "id": "ls2lKJR8RsD_",
        "colab_type": "text"
      },
      "source": [
        "## Hyper Parameters For Decision Trees\n",
        "\n",
        "* criterion : there are two options available , \"entropy\" and \"gini\". These are the homogeneity measures that we discussed. By default \"gini\" is used \n",
        "\n",
        "* The maximum depth of the tree. If None, then nodes are expanded until all leaves are pure or until all leaves contain less than min_samples_split samples. Ignored if ``max_leaf_nodes`` is not None. We'll finding optimal value for max_leaf_nodes [which is basically size of the tree] through cross validation.\n",
        "\n",
        "* min_sample_split : The minimum number of samples required to split an internal node. defaults to too, good idea is to keep it slightly higher in order to reduce overfitting of the data. recommended values is between 5 to 10\n",
        "\n",
        "* min_sample_leaf : The minimum number of samples required to be at a leaf node. This defaults to 1. If this number is higher and a split results in a leaf node having lesser number of samples than specified then that split is cancelled.\n",
        "\n",
        "* max_leaf_node : this parameter controlls size of the tree, we'll be finding optimal value of this through cross validation\n",
        "\n",
        "* class_weight : this default to None in which case each class is given equal weightage. If the goal of the problem is good classification instead of accuracy then you should set this to \"balanced\", in which case class weights are assigned inversely proportional to class frequencies in the input data.\n",
        "\n",
        "* random_state : this is used to reproduce random result\n"
      ]
    },
    {
      "cell_type": "code",
      "metadata": {
        "id": "Bz9zzKH8RsEC",
        "colab_type": "code",
        "colab": {}
      },
      "source": [
        "from sklearn.model_selection import RandomizedSearchCV"
      ],
      "execution_count": 0,
      "outputs": []
    },
    {
      "cell_type": "code",
      "metadata": {
        "id": "JkJ33E8ARsEJ",
        "colab_type": "code",
        "colab": {}
      },
      "source": [
        "params={ 'class_weight':[None,'balanced'], \n",
        "        'criterion':['entropy','gini'],\n",
        "        'max_depth':[None,5,10,15,20,30,50,70],\n",
        "            'min_samples_leaf':[1,2,5,10,15,20], \n",
        "            'min_samples_split':[2,5,10,15,20]\n",
        "       }"
      ],
      "execution_count": 0,
      "outputs": []
    },
    {
      "cell_type": "code",
      "metadata": {
        "id": "DboxZzNiRsES",
        "colab_type": "code",
        "colab": {
          "base_uri": "https://localhost:8080/",
          "height": 35
        },
        "outputId": "132cdc4d-6dbe-4b10-993d-8e7f5ec060c2"
      },
      "source": [
        "2*2*8*6*5"
      ],
      "execution_count": 17,
      "outputs": [
        {
          "output_type": "execute_result",
          "data": {
            "text/plain": [
              "960"
            ]
          },
          "metadata": {
            "tags": []
          },
          "execution_count": 17
        }
      ]
    },
    {
      "cell_type": "code",
      "metadata": {
        "id": "tFIx8JyKRsEY",
        "colab_type": "code",
        "colab": {}
      },
      "source": [
        "from sklearn.tree import DecisionTreeClassifier"
      ],
      "execution_count": 0,
      "outputs": []
    },
    {
      "cell_type": "code",
      "metadata": {
        "id": "Q7KOS4CrRsEj",
        "colab_type": "code",
        "colab": {}
      },
      "source": [
        "clf=DecisionTreeClassifier()"
      ],
      "execution_count": 0,
      "outputs": []
    },
    {
      "cell_type": "code",
      "metadata": {
        "id": "8IATexPWRsEs",
        "colab_type": "code",
        "colab": {}
      },
      "source": [
        "random_search=RandomizedSearchCV(clf,cv=10,\n",
        "                                 param_distributions=params,\n",
        "                                 scoring='roc_auc',\n",
        "                                 n_iter=10\n",
        "                                    )"
      ],
      "execution_count": 0,
      "outputs": []
    },
    {
      "cell_type": "code",
      "metadata": {
        "id": "cJSmjvICTNgv",
        "colab_type": "code",
        "colab": {
          "base_uri": "https://localhost:8080/",
          "height": 54
        },
        "outputId": "c85b1ec9-903f-447f-9167-efeff961852b"
      },
      "source": [
        ""
      ],
      "execution_count": 28,
      "outputs": [
        {
          "output_type": "execute_result",
          "data": {
            "text/plain": [
              "0    0.0\n",
              "dtype: float64"
            ]
          },
          "metadata": {
            "tags": []
          },
          "execution_count": 28
        }
      ]
    },
    {
      "cell_type": "code",
      "metadata": {
        "id": "9UODP4c9Sj9R",
        "colab_type": "code",
        "colab": {
          "base_uri": "https://localhost:8080/",
          "height": 550
        },
        "outputId": "c46bd665-b83e-47f4-a053-0c532a7d63b8"
      },
      "source": [
        "x_train[\"capital.gain\"]=x_train[\"capital.gain\"].fillna(0)\n",
        "x_train[\"capital.loss\"]=x_train[\"capital.loss\"].fillna(0)\n",
        "x_train[\"hours.per.week\"]=x_train[\"hours.per.week\"].fillna(40)\n",
        "x_train.isna().sum()"
      ],
      "execution_count": 31,
      "outputs": [
        {
          "output_type": "execute_result",
          "data": {
            "text/plain": [
              "age                                   0\n",
              "fnlwgt                                0\n",
              "education.num                         0\n",
              "capital.gain                          0\n",
              "capital.loss                          0\n",
              "hours.per.week                        0\n",
              "workclass_ Private                    0\n",
              "workclass_ Self-emp-not-inc           0\n",
              "workclass_ Local-gov                  0\n",
              "workclass_ ?                          0\n",
              "workclass_ State-gov                  0\n",
              "marital.status_ Married-civ-spouse    0\n",
              "marital.status_ Never-married         0\n",
              "occupation_ Prof-specialty            0\n",
              "occupation_ Craft-repair              0\n",
              "occupation_ Exec-managerial           0\n",
              "occupation_ Adm-clerical              0\n",
              "occupation_ Sales                     0\n",
              "occupation_ Other-service             0\n",
              "occupation_ Machine-op-inspct         0\n",
              "occupation_ ?                         0\n",
              "occupation_ Transport-moving          0\n",
              "relationship_ Husband                 0\n",
              "relationship_ Not-in-family           0\n",
              "relationship_ Own-child               0\n",
              "relationship_ Unmarried               0\n",
              "race_ White                           0\n",
              "sex_ Male                             0\n",
              "dtype: int64"
            ]
          },
          "metadata": {
            "tags": []
          },
          "execution_count": 31
        }
      ]
    },
    {
      "cell_type": "code",
      "metadata": {
        "id": "BxDjkqFMRsE5",
        "colab_type": "code",
        "colab": {
          "base_uri": "https://localhost:8080/",
          "height": 476
        },
        "outputId": "68d76510-d149-4e28-cd49-07ff906b40c1"
      },
      "source": [
        "random_search.fit(x_train,y_train)"
      ],
      "execution_count": 32,
      "outputs": [
        {
          "output_type": "execute_result",
          "data": {
            "text/plain": [
              "RandomizedSearchCV(cv=10, error_score='raise-deprecating',\n",
              "                   estimator=DecisionTreeClassifier(class_weight=None,\n",
              "                                                    criterion='gini',\n",
              "                                                    max_depth=None,\n",
              "                                                    max_features=None,\n",
              "                                                    max_leaf_nodes=None,\n",
              "                                                    min_impurity_decrease=0.0,\n",
              "                                                    min_impurity_split=None,\n",
              "                                                    min_samples_leaf=1,\n",
              "                                                    min_samples_split=2,\n",
              "                                                    min_weight_fraction_leaf=0.0,\n",
              "                                                    presort=False,\n",
              "                                                    random_state=None,\n",
              "                                                    splitter='best'),\n",
              "                   iid='warn', n_iter=10, n_jobs=None,\n",
              "                   param_distributions={'class_weight': [None, 'balanced'],\n",
              "                                        'criterion': ['entropy', 'gini'],\n",
              "                                        'max_depth': [None, 5, 10, 15, 20, 30,\n",
              "                                                      50, 70],\n",
              "                                        'min_samples_leaf': [1, 2, 5, 10, 15,\n",
              "                                                             20],\n",
              "                                        'min_samples_split': [2, 5, 10, 15,\n",
              "                                                              20]},\n",
              "                   pre_dispatch='2*n_jobs', random_state=None, refit=True,\n",
              "                   return_train_score=False, scoring='roc_auc', verbose=0)"
            ]
          },
          "metadata": {
            "tags": []
          },
          "execution_count": 32
        }
      ]
    },
    {
      "cell_type": "markdown",
      "metadata": {
        "id": "jDhgoC7DRsFB",
        "colab_type": "text"
      },
      "source": [
        "Printing the tree model is a little tricky in python. We'll have to output our tree to a .dot file using graphviz package. From there using graphviz.Source function we can print our tree for display. Here is how :"
      ]
    },
    {
      "cell_type": "code",
      "metadata": {
        "id": "5lFj6L3nRsFE",
        "colab_type": "code",
        "colab": {
          "base_uri": "https://localhost:8080/",
          "height": 127
        },
        "outputId": "fbeedfe8-8b7b-4996-869d-29cfb7f69347"
      },
      "source": [
        "random_search.best_estimator_"
      ],
      "execution_count": 33,
      "outputs": [
        {
          "output_type": "execute_result",
          "data": {
            "text/plain": [
              "DecisionTreeClassifier(class_weight='balanced', criterion='entropy',\n",
              "                       max_depth=10, max_features=None, max_leaf_nodes=None,\n",
              "                       min_impurity_decrease=0.0, min_impurity_split=None,\n",
              "                       min_samples_leaf=5, min_samples_split=5,\n",
              "                       min_weight_fraction_leaf=0.0, presort=False,\n",
              "                       random_state=None, splitter='best')"
            ]
          },
          "metadata": {
            "tags": []
          },
          "execution_count": 33
        }
      ]
    },
    {
      "cell_type": "code",
      "metadata": {
        "id": "4S5rKuKLRsFQ",
        "colab_type": "code",
        "colab": {}
      },
      "source": [
        "def report(results, n_top=3):\n",
        "    for i in range(1, n_top + 1):\n",
        "        candidates = np.flatnonzero(results['rank_test_score'] == i)\n",
        "        for candidate in candidates:\n",
        "            print(\"Model with rank: {0}\".format(i))\n",
        "            print(\"Mean validation score: {0:.3f} (std: {1:.5f})\".format(\n",
        "                  results['mean_test_score'][candidate],\n",
        "                  results['std_test_score'][candidate]))\n",
        "            print(\"Parameters: {0}\".format(results['params'][candidate]))\n",
        "            print(\"\")"
      ],
      "execution_count": 0,
      "outputs": []
    },
    {
      "cell_type": "code",
      "metadata": {
        "id": "N1cn__APRsFV",
        "colab_type": "code",
        "colab": {
          "base_uri": "https://localhost:8080/",
          "height": 404
        },
        "outputId": "9acc9c7b-05d4-4b91-cacb-5431b09f53c3"
      },
      "source": [
        "report(random_search.cv_results_,5)"
      ],
      "execution_count": 35,
      "outputs": [
        {
          "output_type": "stream",
          "text": [
            "Model with rank: 1\n",
            "Mean validation score: 0.888 (std: 0.00728)\n",
            "Parameters: {'min_samples_split': 5, 'min_samples_leaf': 5, 'max_depth': 10, 'criterion': 'entropy', 'class_weight': 'balanced'}\n",
            "\n",
            "Model with rank: 2\n",
            "Mean validation score: 0.885 (std: 0.00802)\n",
            "Parameters: {'min_samples_split': 15, 'min_samples_leaf': 20, 'max_depth': 20, 'criterion': 'gini', 'class_weight': 'balanced'}\n",
            "\n",
            "Model with rank: 3\n",
            "Mean validation score: 0.884 (std: 0.00820)\n",
            "Parameters: {'min_samples_split': 5, 'min_samples_leaf': 20, 'max_depth': None, 'criterion': 'entropy', 'class_weight': None}\n",
            "\n",
            "Model with rank: 4\n",
            "Mean validation score: 0.884 (std: 0.00818)\n",
            "Parameters: {'min_samples_split': 10, 'min_samples_leaf': 20, 'max_depth': 50, 'criterion': 'entropy', 'class_weight': None}\n",
            "\n",
            "Model with rank: 5\n",
            "Mean validation score: 0.879 (std: 0.00580)\n",
            "Parameters: {'min_samples_split': 10, 'min_samples_leaf': 15, 'max_depth': 70, 'criterion': 'gini', 'class_weight': None}\n",
            "\n"
          ],
          "name": "stdout"
        }
      ]
    },
    {
      "cell_type": "code",
      "metadata": {
        "id": "GZfKoVPVRsFi",
        "colab_type": "code",
        "colab": {}
      },
      "source": [
        "dtree=random_search.best_estimator_"
      ],
      "execution_count": 0,
      "outputs": []
    },
    {
      "cell_type": "code",
      "metadata": {
        "id": "K4bghdHNRsF2",
        "colab_type": "code",
        "colab": {
          "base_uri": "https://localhost:8080/",
          "height": 127
        },
        "outputId": "27b2acf5-2795-468e-8ed1-866886fd2d1b"
      },
      "source": [
        "dtree.fit(x_train,y_train)"
      ],
      "execution_count": 37,
      "outputs": [
        {
          "output_type": "execute_result",
          "data": {
            "text/plain": [
              "DecisionTreeClassifier(class_weight='balanced', criterion='entropy',\n",
              "                       max_depth=10, max_features=None, max_leaf_nodes=None,\n",
              "                       min_impurity_decrease=0.0, min_impurity_split=None,\n",
              "                       min_samples_leaf=5, min_samples_split=5,\n",
              "                       min_weight_fraction_leaf=0.0, presort=False,\n",
              "                       random_state=None, splitter='best')"
            ]
          },
          "metadata": {
            "tags": []
          },
          "execution_count": 37
        }
      ]
    },
    {
      "cell_type": "code",
      "metadata": {
        "id": "u5eZz5wZULHH",
        "colab_type": "code",
        "colab": {}
      },
      "source": [
        "import pickle\n",
        "filename = 'census_income'\n",
        "outfile = open(filename,'wb')\n",
        "pickle.dump(dtree,outfile)\n",
        "outfile.close()"
      ],
      "execution_count": 0,
      "outputs": []
    },
    {
      "cell_type": "code",
      "metadata": {
        "id": "QGj4TmMyVBzP",
        "colab_type": "code",
        "colab": {}
      },
      "source": [
        "filename = 'census_income'\n",
        "infile = open(filename,'rb')\n",
        "new_census_model = pickle.load(infile)\n",
        "infile.close()"
      ],
      "execution_count": 0,
      "outputs": []
    },
    {
      "cell_type": "code",
      "metadata": {
        "id": "PRI5FjZdVKrJ",
        "colab_type": "code",
        "colab": {
          "base_uri": "https://localhost:8080/",
          "height": 35
        },
        "outputId": "ee787f14-2a22-4659-f0d3-7b43cf32f969"
      },
      "source": [
        "predict=new_census_model.predict(x_train)\n",
        "from sklearn.metrics import accuracy_score\n",
        "accuracy_score(predict,y_train)"
      ],
      "execution_count": 41,
      "outputs": [
        {
          "output_type": "execute_result",
          "data": {
            "text/plain": [
              "0.8135582308633232"
            ]
          },
          "metadata": {
            "tags": []
          },
          "execution_count": 41
        }
      ]
    },
    {
      "cell_type": "code",
      "metadata": {
        "id": "7lo-OJS5RsF8",
        "colab_type": "code",
        "colab": {}
      },
      "source": [
        "dotfile = open(\"mytree.dot\", 'w')\n",
        "\n",
        "tree.export_graphviz(dtree,out_file=dotfile,\n",
        "                     feature_names=x_train.columns,\n",
        "                    class_names=[\"0\",\"1\"],\n",
        "                     proportion=True)\n",
        "dotfile.close()"
      ],
      "execution_count": 0,
      "outputs": []
    },
    {
      "cell_type": "markdown",
      "metadata": {
        "id": "VCGQdvS0RsGT",
        "colab_type": "text"
      },
      "source": [
        "Open mytree.dot file in a simple text editor and copy and paste the code here to visualise your tree : http://webgraphviz.com"
      ]
    },
    {
      "cell_type": "markdown",
      "metadata": {
        "id": "T-SXVZKFRsGX",
        "colab_type": "text"
      },
      "source": [
        "## Additional Hyper paprameters for RandomForests\n",
        "\n",
        "* n_estimators : number of trees in the forest . defaults to 10. good starting point will be 100. Its one of the hyper parameters. We'll see how to search through mutidimensional hyper parameter space in order to find optimal combination through randomised grid search\n",
        "\n",
        "* max_features : Number of features being considered for rule selection at each split. Look at the documentation for defaults\n",
        "\n",
        "* bootstrap : boolean values, Whether bootstrap samples are used when building trees.\n"
      ]
    },
    {
      "cell_type": "code",
      "metadata": {
        "id": "dlzhiEjDRsGZ",
        "colab_type": "code",
        "colab": {}
      },
      "source": [
        "\n",
        "from sklearn.ensemble import RandomForestClassifier\n"
      ],
      "execution_count": 0,
      "outputs": []
    },
    {
      "cell_type": "code",
      "metadata": {
        "id": "gefCVUU6RsGg",
        "colab_type": "code",
        "colab": {}
      },
      "source": [
        "clf = RandomForestClassifier()"
      ],
      "execution_count": 0,
      "outputs": []
    },
    {
      "cell_type": "code",
      "metadata": {
        "id": "3OYO2MyjRsGo",
        "colab_type": "code",
        "colab": {}
      },
      "source": [
        "# this here is the base classifier we are going to try\n",
        "# we will be supplying different parameter ranges to our randomSearchCV which in turn\n",
        "# will pass it on to this classifier\n",
        "\n",
        "# Utility function to report best scores. This simply accepts grid scores from \n",
        "# our randomSearchCV/GridSearchCV and picks and gives top few combination according to \n",
        "# their scores\n",
        "\n",
        "# RandomSearchCV/GridSearchCV accept parameters values as dictionaries.\n",
        "# In example given below we have constructed dictionary for \n",
        "#different parameter values that we want to\n",
        "# try for randomForest model\n",
        "\n",
        "param_dist = {\"n_estimators\":[100,200,300,500,700,1000],\n",
        "              \"max_features\": [5,10,20,25,30,35],\n",
        "              \"bootstrap\": [True, False],\n",
        "              'class_weight':[None,'balanced'], \n",
        "                'criterion':['entropy','gini'],\n",
        "                'max_depth':[None,5,10,15,20,30,50,70],\n",
        "                'min_samples_leaf':[1,2,5,10,15,20], \n",
        "                'min_samples_split':[2,5,10,15,20]\n",
        "                  }\n",
        "\n"
      ],
      "execution_count": 0,
      "outputs": []
    },
    {
      "cell_type": "code",
      "metadata": {
        "id": "D5SFE3h7RsGt",
        "colab_type": "code",
        "colab": {}
      },
      "source": [
        "x_train.shape"
      ],
      "execution_count": 0,
      "outputs": []
    },
    {
      "cell_type": "code",
      "metadata": {
        "id": "feySbDFeRsGy",
        "colab_type": "code",
        "colab": {}
      },
      "source": [
        "960*6*6*2"
      ],
      "execution_count": 0,
      "outputs": []
    },
    {
      "cell_type": "code",
      "metadata": {
        "id": "It1OpffJRsG2",
        "colab_type": "code",
        "colab": {}
      },
      "source": [
        "# run randomized search\n",
        "n_iter_search = 10\n",
        "# n_iter parameter of RandomizedSeacrhCV controls, how many \n",
        "# parameter combination will be tried; out of all possible given values\n",
        "\n",
        "random_search = RandomizedSearchCV(clf, param_distributions=param_dist,\n",
        "                                   n_iter=n_iter_search,scoring='roc_auc',cv=5)\n",
        "random_search.fit(x_train, y_train)"
      ],
      "execution_count": 0,
      "outputs": []
    },
    {
      "cell_type": "code",
      "metadata": {
        "id": "xHlQYz3oRsG7",
        "colab_type": "code",
        "colab": {}
      },
      "source": [
        "random_search.best_estimator_"
      ],
      "execution_count": 0,
      "outputs": []
    },
    {
      "cell_type": "markdown",
      "metadata": {
        "id": "CRv1ZUdbRsHA",
        "colab_type": "text"
      },
      "source": [
        "RandomForestClassifier(bootstrap=True, class_weight=None, criterion='gini',\n",
        "            max_depth=50, max_features=10, max_leaf_nodes=None,\n",
        "            min_impurity_split=1e-07, min_samples_leaf=10,\n",
        "            min_samples_split=20, min_weight_fraction_leaf=0.0,\n",
        "            n_estimators=300, n_jobs=1, oob_score=False, random_state=None,\n",
        "            verbose=0, warm_start=False)\n",
        "            \n",
        "**Note: This is a result from one of the runs, you can very well get different results from a different run. Your results need not match with this.**"
      ]
    },
    {
      "cell_type": "code",
      "metadata": {
        "id": "kbkNPpqIRsHB",
        "colab_type": "code",
        "colab": {}
      },
      "source": [
        "report(random_search.cv_results_,5)"
      ],
      "execution_count": 0,
      "outputs": []
    },
    {
      "cell_type": "code",
      "metadata": {
        "id": "SynzToYpRsHF",
        "colab_type": "code",
        "colab": {}
      },
      "source": [
        "# select the best values from results above, they will vary slightly with each run\n",
        "rf=RandomForestClassifier(bootstrap=True, class_weight=None, criterion='gini', max_depth=50, \n",
        "                          max_features=10, max_leaf_nodes=None, min_impurity_split=1e-07, \n",
        "                          min_samples_leaf=10, min_samples_split=20, min_weight_fraction_leaf=0.0, \n",
        "                          n_estimators=300, n_jobs=1, oob_score=False, random_state=None, verbose=0, warm_start=False)"
      ],
      "execution_count": 0,
      "outputs": []
    },
    {
      "cell_type": "code",
      "metadata": {
        "id": "Y0V41-1oRsHJ",
        "colab_type": "code",
        "colab": {}
      },
      "source": [
        "rf.fit(x_train,y_train)"
      ],
      "execution_count": 0,
      "outputs": []
    },
    {
      "cell_type": "markdown",
      "metadata": {
        "id": "yk2mgX8VRsHO",
        "colab_type": "text"
      },
      "source": [
        "## Feature Importance"
      ]
    },
    {
      "cell_type": "code",
      "metadata": {
        "id": "1Op3jp4nRsHQ",
        "colab_type": "code",
        "colab": {}
      },
      "source": [
        "feat_imp_df=pd.DataFrame({'features':x_train.columns,'importance':rf.feature_importances_})\n",
        "\n",
        "feat_imp_df.sort_values('importance',ascending=False)"
      ],
      "execution_count": 0,
      "outputs": []
    },
    {
      "cell_type": "markdown",
      "metadata": {
        "id": "DlvO6NrjRsHZ",
        "colab_type": "text"
      },
      "source": [
        "## Partial Dependence Plot\n",
        "\n"
      ]
    },
    {
      "cell_type": "code",
      "metadata": {
        "id": "0PBMZm52RsHb",
        "colab_type": "code",
        "colab": {}
      },
      "source": [
        "var_name='education.num'\n",
        "\n",
        "preds=rf.predict_proba(x_train)[:,1]\n",
        "# part_dep_data"
      ],
      "execution_count": 0,
      "outputs": []
    },
    {
      "cell_type": "code",
      "metadata": {
        "id": "Argx-k-SRsHq",
        "colab_type": "code",
        "colab": {}
      },
      "source": [
        "var_data=pd.DataFrame({'var':x_train[var_name],'response':preds})"
      ],
      "execution_count": 0,
      "outputs": []
    },
    {
      "cell_type": "code",
      "metadata": {
        "id": "JOqkRbYnRsHz",
        "colab_type": "code",
        "colab": {}
      },
      "source": [
        "import seaborn as sns\n",
        "\n",
        "sns.lmplot(x='var',y='response',data=var_data,fit_reg=False)"
      ],
      "execution_count": 0,
      "outputs": []
    },
    {
      "cell_type": "code",
      "metadata": {
        "id": "x7CyENkBRsH4",
        "colab_type": "code",
        "colab": {}
      },
      "source": [
        "import statsmodels.api as sm\n",
        "smooth_data=sm.nonparametric.lowess(var_data['response'],var_data['var'])\n",
        "\n",
        "# smooth_data"
      ],
      "execution_count": 0,
      "outputs": []
    },
    {
      "cell_type": "code",
      "metadata": {
        "id": "JOWipDdcRsH-",
        "colab_type": "code",
        "colab": {}
      },
      "source": [
        "df=pd.DataFrame({'response':smooth_data[:,1],var_name:smooth_data[:,0]})\n",
        "\n",
        "sns.lmplot(x=var_name,y='response',data=df,fit_reg=False)"
      ],
      "execution_count": 0,
      "outputs": []
    }
  ]
}